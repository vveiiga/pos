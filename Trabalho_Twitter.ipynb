{
  "nbformat": 4,
  "nbformat_minor": 0,
  "metadata": {
    "colab": {
      "name": "Trabalho Twitter.ipynb",
      "provenance": [],
      "collapsed_sections": [],
      "authorship_tag": "ABX9TyObx5zDgJOL9CrnDQNfPeOJ",
      "include_colab_link": true
    },
    "kernelspec": {
      "name": "python3",
      "display_name": "Python 3"
    },
    "language_info": {
      "name": "python"
    }
  },
  "cells": [
    {
      "cell_type": "markdown",
      "metadata": {
        "id": "view-in-github",
        "colab_type": "text"
      },
      "source": [
        "<a href=\"https://colab.research.google.com/github/vveiiga/pos/blob/master/Trabalho_Twitter.ipynb\" target=\"_parent\"><img src=\"https://colab.research.google.com/assets/colab-badge.svg\" alt=\"Open In Colab\"/></a>"
      ]
    },
    {
      "cell_type": "markdown",
      "source": [
        ""
      ],
      "metadata": {
        "id": "yqk-4L-dlBeX"
      }
    },
    {
      "cell_type": "markdown",
      "source": [
        "**Número de Retweets e favoritos por candidatos**\n",
        "\n",
        "> **ALUNO:** *Vítor Passos da Costa Veiga*\n",
        "**MATRÍCULA:** *2118446*\n"
      ],
      "metadata": {
        "id": "CoMcXoGzk3J2"
      }
    },
    {
      "cell_type": "code",
      "execution_count": 1,
      "metadata": {
        "id": "K79pnS8fkXVm"
      },
      "outputs": [],
      "source": [
        "import pandas as pd\n",
        "import json\n",
        "import matplotlib.pyplot as plt\n",
        "import requests\n",
        "import datetime\n",
        "import numpy as np\n",
        "import math\n",
        "from io import StringIO\n",
        "import seaborn as sns\n",
        "from datetime import date,datetime,timedelta"
      ]
    },
    {
      "cell_type": "code",
      "source": [
        "bolsonaro = json.load(open('/content/sample_data/jairbolsonaro.json', 'r'))"
      ],
      "metadata": {
        "id": "xYdSWnOglk5N"
      },
      "execution_count": 2,
      "outputs": []
    },
    {
      "cell_type": "code",
      "source": [
        "lula = json.load(open('/content/sample_data/LulaOficial.json', 'r'))"
      ],
      "metadata": {
        "id": "50evFEmymmQR"
      },
      "execution_count": 3,
      "outputs": []
    },
    {
      "cell_type": "code",
      "source": [
        "print(json.dumps(bolsonaro[0],indent=3))"
      ],
      "metadata": {
        "colab": {
          "base_uri": "https://localhost:8080/"
        },
        "id": "9rufWO-So8mU",
        "outputId": "3ec2ef2d-255b-482a-b0da-4c8aa7fb79fd"
      },
      "execution_count": 4,
      "outputs": [
        {
          "output_type": "stream",
          "name": "stdout",
          "text": [
            "{\n",
            "   \"created_at\": \"Thu Apr 01 02:59:50 +0000 2010\",\n",
            "   \"id\": 11402700435,\n",
            "   \"id_str\": \"11402700435\",\n",
            "   \"full_text\": \"EM \\\"DITADURA\\\" SEM PARED\\u00c3O, AT\\u00c9 CHICO ALENCAR \\u00c9 VALENT\\u00c3O. Mostrem ao povo as marcas da tortura. Vcs est\\u00e3o d bolso cheio do Bolsa-Ditadura.\",\n",
            "   \"truncated\": false,\n",
            "   \"display_text_range\": [\n",
            "      0,\n",
            "      137\n",
            "   ],\n",
            "   \"entities\": {\n",
            "      \"hashtags\": [],\n",
            "      \"symbols\": [],\n",
            "      \"user_mentions\": [],\n",
            "      \"urls\": []\n",
            "   },\n",
            "   \"source\": \"<a href=\\\"https://about.twitter.com/products/tweetdeck\\\" rel=\\\"nofollow\\\">TweetDeck</a>\",\n",
            "   \"in_reply_to_status_id\": null,\n",
            "   \"in_reply_to_status_id_str\": null,\n",
            "   \"in_reply_to_user_id\": null,\n",
            "   \"in_reply_to_user_id_str\": null,\n",
            "   \"in_reply_to_screen_name\": null,\n",
            "   \"user\": {\n",
            "      \"id\": 128372940,\n",
            "      \"id_str\": \"128372940\",\n",
            "      \"name\": \"Jair M. Bolsonaro\",\n",
            "      \"screen_name\": \"jairbolsonaro\",\n",
            "      \"location\": \"Bras\\u00edlia, Brasil\",\n",
            "      \"description\": \"Capit\\u00e3o do Ex\\u00e9rcito Brasileiro, eleito 38\\u00b0 Presidente da Rep\\u00fablica Federativa do Brasil. \\ud83c\\udde7\\ud83c\\uddf7\",\n",
            "      \"url\": \"https://t.co/bqpNS6l0al\",\n",
            "      \"entities\": {\n",
            "         \"url\": {\n",
            "            \"urls\": [\n",
            "               {\n",
            "                  \"url\": \"https://t.co/bqpNS6l0al\",\n",
            "                  \"expanded_url\": \"http://www.bolsonaro.com.br\",\n",
            "                  \"display_url\": \"bolsonaro.com.br\",\n",
            "                  \"indices\": [\n",
            "                     0,\n",
            "                     23\n",
            "                  ]\n",
            "               }\n",
            "            ]\n",
            "         },\n",
            "         \"description\": {\n",
            "            \"urls\": []\n",
            "         }\n",
            "      },\n",
            "      \"protected\": false,\n",
            "      \"followers_count\": 5759089,\n",
            "      \"friends_count\": 394,\n",
            "      \"listed_count\": 5504,\n",
            "      \"created_at\": \"Wed Mar 31 23:13:44 +0000 2010\",\n",
            "      \"favourites_count\": 2393,\n",
            "      \"utc_offset\": null,\n",
            "      \"time_zone\": null,\n",
            "      \"geo_enabled\": false,\n",
            "      \"verified\": true,\n",
            "      \"statuses_count\": 8316,\n",
            "      \"lang\": null,\n",
            "      \"contributors_enabled\": false,\n",
            "      \"is_translator\": false,\n",
            "      \"is_translation_enabled\": false,\n",
            "      \"profile_background_color\": \"175C17\",\n",
            "      \"profile_background_image_url\": \"http://abs.twimg.com/images/themes/theme1/bg.png\",\n",
            "      \"profile_background_image_url_https\": \"https://abs.twimg.com/images/themes/theme1/bg.png\",\n",
            "      \"profile_background_tile\": false,\n",
            "      \"profile_image_url\": \"http://pbs.twimg.com/profile_images/1057631480459886595/9VPdGJJz_normal.jpg\",\n",
            "      \"profile_image_url_https\": \"https://pbs.twimg.com/profile_images/1057631480459886595/9VPdGJJz_normal.jpg\",\n",
            "      \"profile_banner_url\": \"https://pbs.twimg.com/profile_banners/128372940/1540929521\",\n",
            "      \"profile_link_color\": \"0084B4\",\n",
            "      \"profile_sidebar_border_color\": \"FFFFFF\",\n",
            "      \"profile_sidebar_fill_color\": \"A4E37F\",\n",
            "      \"profile_text_color\": \"1414FF\",\n",
            "      \"profile_use_background_image\": true,\n",
            "      \"has_extended_profile\": true,\n",
            "      \"default_profile\": false,\n",
            "      \"default_profile_image\": false,\n",
            "      \"can_media_tag\": true,\n",
            "      \"followed_by\": false,\n",
            "      \"following\": false,\n",
            "      \"follow_request_sent\": false,\n",
            "      \"notifications\": false,\n",
            "      \"translator_type\": \"none\"\n",
            "   },\n",
            "   \"geo\": null,\n",
            "   \"coordinates\": null,\n",
            "   \"place\": null,\n",
            "   \"contributors\": null,\n",
            "   \"is_quote_status\": false,\n",
            "   \"retweet_count\": 30,\n",
            "   \"favorite_count\": 15,\n",
            "   \"favorited\": false,\n",
            "   \"retweeted\": false,\n",
            "   \"lang\": \"pt\"\n",
            "}\n"
          ]
        }
      ]
    },
    {
      "cell_type": "code",
      "source": [
        "df_bolsonaro = pd.DataFrame(bolsonaro)  \n",
        "df_bolsonaro.head()"
      ],
      "metadata": {
        "colab": {
          "base_uri": "https://localhost:8080/",
          "height": 681
        },
        "id": "vZ8ccB59svGK",
        "outputId": "70d3afed-78df-4a29-e5a4-7ff90ca87b30"
      },
      "execution_count": 5,
      "outputs": [
        {
          "output_type": "execute_result",
          "data": {
            "text/html": [
              "\n",
              "  <div id=\"df-86d996ce-3a05-4437-904d-c5a39bbf7869\">\n",
              "    <div class=\"colab-df-container\">\n",
              "      <div>\n",
              "<style scoped>\n",
              "    .dataframe tbody tr th:only-of-type {\n",
              "        vertical-align: middle;\n",
              "    }\n",
              "\n",
              "    .dataframe tbody tr th {\n",
              "        vertical-align: top;\n",
              "    }\n",
              "\n",
              "    .dataframe thead th {\n",
              "        text-align: right;\n",
              "    }\n",
              "</style>\n",
              "<table border=\"1\" class=\"dataframe\">\n",
              "  <thead>\n",
              "    <tr style=\"text-align: right;\">\n",
              "      <th></th>\n",
              "      <th>created_at</th>\n",
              "      <th>id</th>\n",
              "      <th>id_str</th>\n",
              "      <th>full_text</th>\n",
              "      <th>truncated</th>\n",
              "      <th>display_text_range</th>\n",
              "      <th>entities</th>\n",
              "      <th>source</th>\n",
              "      <th>in_reply_to_status_id</th>\n",
              "      <th>in_reply_to_status_id_str</th>\n",
              "      <th>...</th>\n",
              "      <th>favorite_count</th>\n",
              "      <th>favorited</th>\n",
              "      <th>retweeted</th>\n",
              "      <th>lang</th>\n",
              "      <th>extended_entities</th>\n",
              "      <th>possibly_sensitive</th>\n",
              "      <th>quoted_status_id</th>\n",
              "      <th>quoted_status_id_str</th>\n",
              "      <th>quoted_status_permalink</th>\n",
              "      <th>quoted_status</th>\n",
              "    </tr>\n",
              "  </thead>\n",
              "  <tbody>\n",
              "    <tr>\n",
              "      <th>0</th>\n",
              "      <td>Thu Apr 01 02:59:50 +0000 2010</td>\n",
              "      <td>11402700435</td>\n",
              "      <td>11402700435</td>\n",
              "      <td>EM \"DITADURA\" SEM PAREDÃO, ATÉ CHICO ALENCAR É...</td>\n",
              "      <td>False</td>\n",
              "      <td>[0, 137]</td>\n",
              "      <td>{'hashtags': [], 'symbols': [], 'user_mentions...</td>\n",
              "      <td>&lt;a href=\"https://about.twitter.com/products/tw...</td>\n",
              "      <td>NaN</td>\n",
              "      <td>None</td>\n",
              "      <td>...</td>\n",
              "      <td>15</td>\n",
              "      <td>False</td>\n",
              "      <td>False</td>\n",
              "      <td>pt</td>\n",
              "      <td>NaN</td>\n",
              "      <td>NaN</td>\n",
              "      <td>NaN</td>\n",
              "      <td>NaN</td>\n",
              "      <td>NaN</td>\n",
              "      <td>NaN</td>\n",
              "    </tr>\n",
              "    <tr>\n",
              "      <th>1</th>\n",
              "      <td>Thu Jan 10 11:02:23 +0000 2019</td>\n",
              "      <td>1083318129135112192</td>\n",
              "      <td>1083318129135112192</td>\n",
              "      <td>Bom dia! 🇧🇷 #tbt com o amigo \"Canguru\", que já...</td>\n",
              "      <td>False</td>\n",
              "      <td>[0, 90]</td>\n",
              "      <td>{'hashtags': [{'text': 'tbt', 'indices': [12, ...</td>\n",
              "      <td>&lt;a href=\"http://twitter.com/download/iphone\" r...</td>\n",
              "      <td>NaN</td>\n",
              "      <td>None</td>\n",
              "      <td>...</td>\n",
              "      <td>31618</td>\n",
              "      <td>False</td>\n",
              "      <td>False</td>\n",
              "      <td>pt</td>\n",
              "      <td>{'media': [{'id': 1083318121841262592, 'id_str...</td>\n",
              "      <td>False</td>\n",
              "      <td>NaN</td>\n",
              "      <td>NaN</td>\n",
              "      <td>NaN</td>\n",
              "      <td>NaN</td>\n",
              "    </tr>\n",
              "    <tr>\n",
              "      <th>2</th>\n",
              "      <td>Fri Jul 19 02:04:16 +0000 2019</td>\n",
              "      <td>1152036400138579968</td>\n",
              "      <td>1152036400138579968</td>\n",
              "      <td>- Para descontrair. Proibido queimar ovo. (Kkk...</td>\n",
              "      <td>False</td>\n",
              "      <td>[0, 48]</td>\n",
              "      <td>{'hashtags': [], 'symbols': [], 'user_mentions...</td>\n",
              "      <td>&lt;a href=\"http://twitter.com/download/android\" ...</td>\n",
              "      <td>NaN</td>\n",
              "      <td>None</td>\n",
              "      <td>...</td>\n",
              "      <td>46637</td>\n",
              "      <td>False</td>\n",
              "      <td>False</td>\n",
              "      <td>pt</td>\n",
              "      <td>{'media': [{'id': 1152036204247953408, 'id_str...</td>\n",
              "      <td>False</td>\n",
              "      <td>NaN</td>\n",
              "      <td>NaN</td>\n",
              "      <td>NaN</td>\n",
              "      <td>NaN</td>\n",
              "    </tr>\n",
              "    <tr>\n",
              "      <th>3</th>\n",
              "      <td>Tue Oct 09 02:52:56 +0000 2018</td>\n",
              "      <td>1049492883328380928</td>\n",
              "      <td>1049492883328380928</td>\n",
              "      <td>Trecho de entrevista ao vivo para o Jornal Nac...</td>\n",
              "      <td>False</td>\n",
              "      <td>[0, 65]</td>\n",
              "      <td>{'hashtags': [], 'symbols': [], 'user_mentions...</td>\n",
              "      <td>&lt;a href=\"http://twitter.com/download/iphone\" r...</td>\n",
              "      <td>NaN</td>\n",
              "      <td>None</td>\n",
              "      <td>...</td>\n",
              "      <td>56322</td>\n",
              "      <td>False</td>\n",
              "      <td>False</td>\n",
              "      <td>pt</td>\n",
              "      <td>{'media': [{'id': 1049489244387983360, 'id_str...</td>\n",
              "      <td>False</td>\n",
              "      <td>NaN</td>\n",
              "      <td>NaN</td>\n",
              "      <td>NaN</td>\n",
              "      <td>NaN</td>\n",
              "    </tr>\n",
              "    <tr>\n",
              "      <th>4</th>\n",
              "      <td>Wed Aug 23 15:12:48 +0000 2017</td>\n",
              "      <td>900375277557215232</td>\n",
              "      <td>900375277557215232</td>\n",
              "      <td>Querem criar o fundão bilionário na Reforma Po...</td>\n",
              "      <td>False</td>\n",
              "      <td>[0, 138]</td>\n",
              "      <td>{'hashtags': [], 'symbols': [], 'user_mentions...</td>\n",
              "      <td>&lt;a href=\"http://twitter.com/download/iphone\" r...</td>\n",
              "      <td>NaN</td>\n",
              "      <td>None</td>\n",
              "      <td>...</td>\n",
              "      <td>7147</td>\n",
              "      <td>False</td>\n",
              "      <td>False</td>\n",
              "      <td>pt</td>\n",
              "      <td>NaN</td>\n",
              "      <td>NaN</td>\n",
              "      <td>NaN</td>\n",
              "      <td>NaN</td>\n",
              "      <td>NaN</td>\n",
              "      <td>NaN</td>\n",
              "    </tr>\n",
              "  </tbody>\n",
              "</table>\n",
              "<p>5 rows × 30 columns</p>\n",
              "</div>\n",
              "      <button class=\"colab-df-convert\" onclick=\"convertToInteractive('df-86d996ce-3a05-4437-904d-c5a39bbf7869')\"\n",
              "              title=\"Convert this dataframe to an interactive table.\"\n",
              "              style=\"display:none;\">\n",
              "        \n",
              "  <svg xmlns=\"http://www.w3.org/2000/svg\" height=\"24px\"viewBox=\"0 0 24 24\"\n",
              "       width=\"24px\">\n",
              "    <path d=\"M0 0h24v24H0V0z\" fill=\"none\"/>\n",
              "    <path d=\"M18.56 5.44l.94 2.06.94-2.06 2.06-.94-2.06-.94-.94-2.06-.94 2.06-2.06.94zm-11 1L8.5 8.5l.94-2.06 2.06-.94-2.06-.94L8.5 2.5l-.94 2.06-2.06.94zm10 10l.94 2.06.94-2.06 2.06-.94-2.06-.94-.94-2.06-.94 2.06-2.06.94z\"/><path d=\"M17.41 7.96l-1.37-1.37c-.4-.4-.92-.59-1.43-.59-.52 0-1.04.2-1.43.59L10.3 9.45l-7.72 7.72c-.78.78-.78 2.05 0 2.83L4 21.41c.39.39.9.59 1.41.59.51 0 1.02-.2 1.41-.59l7.78-7.78 2.81-2.81c.8-.78.8-2.07 0-2.86zM5.41 20L4 18.59l7.72-7.72 1.47 1.35L5.41 20z\"/>\n",
              "  </svg>\n",
              "      </button>\n",
              "      \n",
              "  <style>\n",
              "    .colab-df-container {\n",
              "      display:flex;\n",
              "      flex-wrap:wrap;\n",
              "      gap: 12px;\n",
              "    }\n",
              "\n",
              "    .colab-df-convert {\n",
              "      background-color: #E8F0FE;\n",
              "      border: none;\n",
              "      border-radius: 50%;\n",
              "      cursor: pointer;\n",
              "      display: none;\n",
              "      fill: #1967D2;\n",
              "      height: 32px;\n",
              "      padding: 0 0 0 0;\n",
              "      width: 32px;\n",
              "    }\n",
              "\n",
              "    .colab-df-convert:hover {\n",
              "      background-color: #E2EBFA;\n",
              "      box-shadow: 0px 1px 2px rgba(60, 64, 67, 0.3), 0px 1px 3px 1px rgba(60, 64, 67, 0.15);\n",
              "      fill: #174EA6;\n",
              "    }\n",
              "\n",
              "    [theme=dark] .colab-df-convert {\n",
              "      background-color: #3B4455;\n",
              "      fill: #D2E3FC;\n",
              "    }\n",
              "\n",
              "    [theme=dark] .colab-df-convert:hover {\n",
              "      background-color: #434B5C;\n",
              "      box-shadow: 0px 1px 3px 1px rgba(0, 0, 0, 0.15);\n",
              "      filter: drop-shadow(0px 1px 2px rgba(0, 0, 0, 0.3));\n",
              "      fill: #FFFFFF;\n",
              "    }\n",
              "  </style>\n",
              "\n",
              "      <script>\n",
              "        const buttonEl =\n",
              "          document.querySelector('#df-86d996ce-3a05-4437-904d-c5a39bbf7869 button.colab-df-convert');\n",
              "        buttonEl.style.display =\n",
              "          google.colab.kernel.accessAllowed ? 'block' : 'none';\n",
              "\n",
              "        async function convertToInteractive(key) {\n",
              "          const element = document.querySelector('#df-86d996ce-3a05-4437-904d-c5a39bbf7869');\n",
              "          const dataTable =\n",
              "            await google.colab.kernel.invokeFunction('convertToInteractive',\n",
              "                                                     [key], {});\n",
              "          if (!dataTable) return;\n",
              "\n",
              "          const docLinkHtml = 'Like what you see? Visit the ' +\n",
              "            '<a target=\"_blank\" href=https://colab.research.google.com/notebooks/data_table.ipynb>data table notebook</a>'\n",
              "            + ' to learn more about interactive tables.';\n",
              "          element.innerHTML = '';\n",
              "          dataTable['output_type'] = 'display_data';\n",
              "          await google.colab.output.renderOutput(dataTable, element);\n",
              "          const docLink = document.createElement('div');\n",
              "          docLink.innerHTML = docLinkHtml;\n",
              "          element.appendChild(docLink);\n",
              "        }\n",
              "      </script>\n",
              "    </div>\n",
              "  </div>\n",
              "  "
            ],
            "text/plain": [
              "                       created_at                   id               id_str  \\\n",
              "0  Thu Apr 01 02:59:50 +0000 2010          11402700435          11402700435   \n",
              "1  Thu Jan 10 11:02:23 +0000 2019  1083318129135112192  1083318129135112192   \n",
              "2  Fri Jul 19 02:04:16 +0000 2019  1152036400138579968  1152036400138579968   \n",
              "3  Tue Oct 09 02:52:56 +0000 2018  1049492883328380928  1049492883328380928   \n",
              "4  Wed Aug 23 15:12:48 +0000 2017   900375277557215232   900375277557215232   \n",
              "\n",
              "                                           full_text  truncated  \\\n",
              "0  EM \"DITADURA\" SEM PAREDÃO, ATÉ CHICO ALENCAR É...      False   \n",
              "1  Bom dia! 🇧🇷 #tbt com o amigo \"Canguru\", que já...      False   \n",
              "2  - Para descontrair. Proibido queimar ovo. (Kkk...      False   \n",
              "3  Trecho de entrevista ao vivo para o Jornal Nac...      False   \n",
              "4  Querem criar o fundão bilionário na Reforma Po...      False   \n",
              "\n",
              "  display_text_range                                           entities  \\\n",
              "0           [0, 137]  {'hashtags': [], 'symbols': [], 'user_mentions...   \n",
              "1            [0, 90]  {'hashtags': [{'text': 'tbt', 'indices': [12, ...   \n",
              "2            [0, 48]  {'hashtags': [], 'symbols': [], 'user_mentions...   \n",
              "3            [0, 65]  {'hashtags': [], 'symbols': [], 'user_mentions...   \n",
              "4           [0, 138]  {'hashtags': [], 'symbols': [], 'user_mentions...   \n",
              "\n",
              "                                              source  in_reply_to_status_id  \\\n",
              "0  <a href=\"https://about.twitter.com/products/tw...                    NaN   \n",
              "1  <a href=\"http://twitter.com/download/iphone\" r...                    NaN   \n",
              "2  <a href=\"http://twitter.com/download/android\" ...                    NaN   \n",
              "3  <a href=\"http://twitter.com/download/iphone\" r...                    NaN   \n",
              "4  <a href=\"http://twitter.com/download/iphone\" r...                    NaN   \n",
              "\n",
              "  in_reply_to_status_id_str  ...  favorite_count favorited retweeted lang  \\\n",
              "0                      None  ...              15     False     False   pt   \n",
              "1                      None  ...           31618     False     False   pt   \n",
              "2                      None  ...           46637     False     False   pt   \n",
              "3                      None  ...           56322     False     False   pt   \n",
              "4                      None  ...            7147     False     False   pt   \n",
              "\n",
              "                                   extended_entities possibly_sensitive  \\\n",
              "0                                                NaN                NaN   \n",
              "1  {'media': [{'id': 1083318121841262592, 'id_str...              False   \n",
              "2  {'media': [{'id': 1152036204247953408, 'id_str...              False   \n",
              "3  {'media': [{'id': 1049489244387983360, 'id_str...              False   \n",
              "4                                                NaN                NaN   \n",
              "\n",
              "  quoted_status_id quoted_status_id_str  quoted_status_permalink  \\\n",
              "0              NaN                  NaN                      NaN   \n",
              "1              NaN                  NaN                      NaN   \n",
              "2              NaN                  NaN                      NaN   \n",
              "3              NaN                  NaN                      NaN   \n",
              "4              NaN                  NaN                      NaN   \n",
              "\n",
              "   quoted_status  \n",
              "0            NaN  \n",
              "1            NaN  \n",
              "2            NaN  \n",
              "3            NaN  \n",
              "4            NaN  \n",
              "\n",
              "[5 rows x 30 columns]"
            ]
          },
          "metadata": {},
          "execution_count": 5
        }
      ]
    },
    {
      "cell_type": "code",
      "source": [
        "###Extrair informação de ano\n",
        "df_bolsonaro['Ano'] = df_bolsonaro['created_at'].apply(lambda x: x.split(' ')[5])\n",
        "print(df_bolsonaro['Ano'])"
      ],
      "metadata": {
        "colab": {
          "base_uri": "https://localhost:8080/"
        },
        "id": "KBKfIl9zuRbG",
        "outputId": "029ebe35-9887-4620-d32c-fdf83b96f20e"
      },
      "execution_count": 6,
      "outputs": [
        {
          "output_type": "stream",
          "name": "stdout",
          "text": [
            "0       2010\n",
            "1       2019\n",
            "2       2019\n",
            "3       2018\n",
            "4       2017\n",
            "        ... \n",
            "6789    2019\n",
            "6790    2016\n",
            "6791    2019\n",
            "6792    2019\n",
            "6793    2014\n",
            "Name: Ano, Length: 6794, dtype: object\n"
          ]
        }
      ]
    },
    {
      "cell_type": "code",
      "source": [
        "#criação da info de mes\n",
        "df_bolsonaro['Mes'] = df_bolsonaro['created_at'].apply(lambda x: x.split(' ')[1])"
      ],
      "metadata": {
        "id": "66Fi23g2CiB_"
      },
      "execution_count": 7,
      "outputs": []
    },
    {
      "cell_type": "code",
      "source": [
        "###Trabalhando com a informação agrupada\n",
        "favoritos_ano_bolsonaro = df_bolsonaro.groupby('Ano',)[['favorite_count']].sum().sort_values(by='favorite_count',ascending= False).reset_index()\n",
        "\n",
        "favoritos_mes_bolsonaro = df_bolsonaro.groupby('Mes',)[['favorite_count']].sum().sort_values(by='favorite_count',ascending= False).reset_index()\n",
        "\n",
        "retweets_ano_bolsonaro = df_bolsonaro.groupby('Ano',)[['retweet_count']].sum().sort_values(by='retweet_count',ascending= False).reset_index()\n",
        "\n",
        "retweets_mes_bolsonaro = df_bolsonaro.groupby('Mes',)[['retweet_count']].sum().sort_values(by='retweet_count',ascending= False).reset_index()"
      ],
      "metadata": {
        "id": "4dwYR0fhxm7w"
      },
      "execution_count": 8,
      "outputs": []
    },
    {
      "cell_type": "code",
      "source": [
        "###Criação de Grafico nao sei o motivo de arredondar nas labels\n",
        "x = favoritos_ano_bolsonaro['Ano']\n",
        "y = favoritos_ano_bolsonaro['favorite_count']\n",
        "plt.plot(x,y)\n",
        "plt.legend(fontsize=15)\n",
        "plt.xlabel('Data',fontsize=20)\n",
        "plt.ylabel('Favoritos',fontsize=20)\n",
        "plt.title('Favoritos Bolsonaro',fontsize=30)\n",
        "plt.show()\n"
      ],
      "metadata": {
        "colab": {
          "base_uri": "https://localhost:8080/",
          "height": 334
        },
        "id": "y213sqwAyEOK",
        "outputId": "0931ba9d-5e3f-4997-ee95-0edc5a593d41"
      },
      "execution_count": 9,
      "outputs": [
        {
          "output_type": "stream",
          "name": "stderr",
          "text": [
            "No handles with labels found to put in legend.\n"
          ]
        },
        {
          "output_type": "display_data",
          "data": {
            "image/png": "[encoded data removed]",
            "text/plain": [
              "<Figure size 432x288 with 1 Axes>"
            ]
          },
          "metadata": {
            "needs_background": "light"
          }
        }
      ]
    },
    {
      "cell_type": "code",
      "source": [
        "###Criação de Grafico nao sei o motivo de arredondar nas labels\n",
        "plt.figure(figsize = (12,5))\n",
        "sns.barplot(x= 'Ano', y = 'favorite_count', data = favoritos_ano_bolsonaro.sort_values(by = 'favorite_count', ascending = False))"
      ],
      "metadata": {
        "colab": {
          "base_uri": "https://localhost:8080/",
          "height": 362
        },
        "id": "4gCRtIhayqQb",
        "outputId": "6b2c9fcb-9d9e-4ccf-9aac-4d5fdc83b9be"
      },
      "execution_count": 10,
      "outputs": [
        {
          "output_type": "execute_result",
          "data": {
            "text/plain": [
              "<matplotlib.axes._subplots.AxesSubplot at 0x7f2ffca2cdd0>"
            ]
          },
          "metadata": {},
          "execution_count": 10
        },
        {
          "output_type": "display_data",
          "data": {
            "image/png": "[encoded data removed]",
            "text/plain": [
              "<Figure size 864x360 with 1 Axes>"
            ]
          },
          "metadata": {
            "needs_background": "light"
          }
        }
      ]
    },
    {
      "cell_type": "code",
      "source": [
        "###Criação de Grafico nao sei o motivo de arredondar nas labels\n",
        "x = favoritos_mes_bolsonaro['Mes']\n",
        "y = favoritos_mes_bolsonaro['favorite_count']\n",
        "plt.plot(x,y)\n",
        "plt.legend(fontsize=15)\n",
        "plt.xlabel('Data',fontsize=20)\n",
        "plt.ylabel('Favoritos',fontsize=20)\n",
        "plt.title('Favoritos Bolsonaro',fontsize=30)\n",
        "plt.show()"
      ],
      "metadata": {
        "colab": {
          "base_uri": "https://localhost:8080/",
          "height": 334
        },
        "id": "LQhZ3knN7DxQ",
        "outputId": "0356032e-1297-4d1c-a615-d8156c0daa89"
      },
      "execution_count": 11,
      "outputs": [
        {
          "output_type": "stream",
          "name": "stderr",
          "text": [
            "No handles with labels found to put in legend.\n"
          ]
        },
        {
          "output_type": "display_data",
          "data": {
            "image/png": "[encoded data removed]",
            "text/plain": [
              "<Figure size 432x288 with 1 Axes>"
            ]
          },
          "metadata": {
            "needs_background": "light"
          }
        }
      ]
    },
    {
      "cell_type": "code",
      "source": [
        "###Criação de Grafico nao sei o motivo de arredondar nas labels\n",
        "plt.figure(figsize = (12,5))\n",
        "sns.barplot(x= 'Mes', y = 'favorite_count', data = favoritos_mes_bolsonaro.sort_values(by = 'favorite_count', ascending = False))"
      ],
      "metadata": {
        "colab": {
          "base_uri": "https://localhost:8080/",
          "height": 362
        },
        "id": "ejBPg_iQ8Ph0",
        "outputId": "44fa41a2-cee6-485f-a3e5-b25c1fa312d1"
      },
      "execution_count": 12,
      "outputs": [
        {
          "output_type": "execute_result",
          "data": {
            "text/plain": [
              "<matplotlib.axes._subplots.AxesSubplot at 0x7f2ffc902f10>"
            ]
          },
          "metadata": {},
          "execution_count": 12
        },
        {
          "output_type": "display_data",
          "data": {
            "image/png": "[encoded data removed]",
            "text/plain": [
              "<Figure size 864x360 with 1 Axes>"
            ]
          },
          "metadata": {
            "needs_background": "light"
          }
        }
      ]
    },
    {
      "cell_type": "code",
      "source": [
        "###Criação de Grafico nao sei o motivo de arredondar nas labels\n",
        "x = retweets_mes_bolsonaro['Mes']\n",
        "y = retweets_mes_bolsonaro['retweet_count']\n",
        "plt.plot(x,y)\n",
        "plt.legend(fontsize=15)\n",
        "plt.xlabel('Data',fontsize=20)\n",
        "plt.ylabel('Retweets',fontsize=20)\n",
        "plt.title('Retweets Bolsonaro',fontsize=30)\n",
        "plt.show()"
      ],
      "metadata": {
        "colab": {
          "base_uri": "https://localhost:8080/",
          "height": 334
        },
        "id": "SpxblgZ_-vam",
        "outputId": "6370fd9d-1390-4f50-f746-83ee9eb8f56d"
      },
      "execution_count": 13,
      "outputs": [
        {
          "output_type": "stream",
          "name": "stderr",
          "text": [
            "No handles with labels found to put in legend.\n"
          ]
        },
        {
          "output_type": "display_data",
          "data": {
            "image/png": "[encoded data removed]",
            "text/plain": [
              "<Figure size 432x288 with 1 Axes>"
            ]
          },
          "metadata": {
            "needs_background": "light"
          }
        }
      ]
    },
    {
      "cell_type": "code",
      "source": [
        "###Criação de Grafico nao sei o motivo de arredondar nas labels\n",
        "plt.figure(figsize = (12,5))\n",
        "sns.barplot(x= 'Mes', y = 'retweet_count', data = retweets_mes_bolsonaro.sort_values(by = 'retweet_count', ascending = False))"
      ],
      "metadata": {
        "colab": {
          "base_uri": "https://localhost:8080/",
          "height": 362
        },
        "id": "Dm2xoH82-vQa",
        "outputId": "d3012180-59fc-4dbf-d97e-29a08bc45c97"
      },
      "execution_count": 14,
      "outputs": [
        {
          "output_type": "execute_result",
          "data": {
            "text/plain": [
              "<matplotlib.axes._subplots.AxesSubplot at 0x7f2ffc7b8190>"
            ]
          },
          "metadata": {},
          "execution_count": 14
        },
        {
          "output_type": "display_data",
          "data": {
            "image/png": "[encoded data removed]",
            "text/plain": [
              "<Figure size 864x360 with 1 Axes>"
            ]
          },
          "metadata": {
            "needs_background": "light"
          }
        }
      ]
    },
    {
      "cell_type": "code",
      "source": [
        "###Criação de Grafico nao sei o motivo de arredondar nas labels\n",
        "x = retweets_ano_bolsonaro['Ano']\n",
        "y = retweets_ano_bolsonaro['retweet_count']\n",
        "plt.plot(x,y)\n",
        "plt.legend(fontsize=15)\n",
        "plt.xlabel('Data',fontsize=20)\n",
        "plt.ylabel('Retweets',fontsize=20)\n",
        "plt.title('Retweets Bolsonaro',fontsize=30)\n",
        "plt.show()"
      ],
      "metadata": {
        "colab": {
          "base_uri": "https://localhost:8080/",
          "height": 334
        },
        "id": "fsjBhULV-vJG",
        "outputId": "fbbc6d1b-549c-4fce-e2ea-2807ce35fb93"
      },
      "execution_count": 15,
      "outputs": [
        {
          "output_type": "stream",
          "name": "stderr",
          "text": [
            "No handles with labels found to put in legend.\n"
          ]
        },
        {
          "output_type": "display_data",
          "data": {
            "image/png": "[encoded data removed]",
            "text/plain": [
              "<Figure size 432x288 with 1 Axes>"
            ]
          },
          "metadata": {
            "needs_background": "light"
          }
        }
      ]
    },
    {
      "cell_type": "code",
      "source": [
        "plt.figure(figsize = (12,5))\n",
        "sns.barplot(x= 'Ano', y = 'retweet_count', data = retweets_ano_bolsonaro.sort_values(by = 'retweet_count', ascending = False))"
      ],
      "metadata": {
        "colab": {
          "base_uri": "https://localhost:8080/",
          "height": 362
        },
        "id": "osvpqa-M-vBA",
        "outputId": "5747358a-49ae-4872-8c09-9b46d754c138"
      },
      "execution_count": 16,
      "outputs": [
        {
          "output_type": "execute_result",
          "data": {
            "text/plain": [
              "<matplotlib.axes._subplots.AxesSubplot at 0x7f2ffc6bb490>"
            ]
          },
          "metadata": {},
          "execution_count": 16
        },
        {
          "output_type": "display_data",
          "data": {
            "image/png": "[encoded data removed]",
            "text/plain": [
              "<Figure size 864x360 with 1 Axes>"
            ]
          },
          "metadata": {
            "needs_background": "light"
          }
        }
      ]
    },
    {
      "cell_type": "code",
      "source": [
        "df_lula = pd.DataFrame(lula)"
      ],
      "metadata": {
        "id": "RsuhQZHs8gGY"
      },
      "execution_count": 17,
      "outputs": []
    },
    {
      "cell_type": "code",
      "source": [
        "df_lula.head()"
      ],
      "metadata": {
        "colab": {
          "base_uri": "https://localhost:8080/",
          "height": 699
        },
        "id": "hBZ_nc7W8-zp",
        "outputId": "8f38c0b4-f81e-4c47-d256-496c2ca2dc46"
      },
      "execution_count": 18,
      "outputs": [
        {
          "output_type": "execute_result",
          "data": {
            "text/html": [
              "\n",
              "  <div id=\"df-ca8599ce-06e6-4d73-8472-c386e67aeb4d\">\n",
              "    <div class=\"colab-df-container\">\n",
              "      <div>\n",
              "<style scoped>\n",
              "    .dataframe tbody tr th:only-of-type {\n",
              "        vertical-align: middle;\n",
              "    }\n",
              "\n",
              "    .dataframe tbody tr th {\n",
              "        vertical-align: top;\n",
              "    }\n",
              "\n",
              "    .dataframe thead th {\n",
              "        text-align: right;\n",
              "    }\n",
              "</style>\n",
              "<table border=\"1\" class=\"dataframe\">\n",
              "  <thead>\n",
              "    <tr style=\"text-align: right;\">\n",
              "      <th></th>\n",
              "      <th>created_at</th>\n",
              "      <th>id</th>\n",
              "      <th>id_str</th>\n",
              "      <th>full_text</th>\n",
              "      <th>truncated</th>\n",
              "      <th>display_text_range</th>\n",
              "      <th>entities</th>\n",
              "      <th>source</th>\n",
              "      <th>in_reply_to_status_id</th>\n",
              "      <th>in_reply_to_status_id_str</th>\n",
              "      <th>...</th>\n",
              "      <th>favorite_count</th>\n",
              "      <th>favorited</th>\n",
              "      <th>retweeted</th>\n",
              "      <th>lang</th>\n",
              "      <th>extended_entities</th>\n",
              "      <th>possibly_sensitive</th>\n",
              "      <th>quoted_status_id</th>\n",
              "      <th>quoted_status_id_str</th>\n",
              "      <th>quoted_status_permalink</th>\n",
              "      <th>quoted_status</th>\n",
              "    </tr>\n",
              "  </thead>\n",
              "  <tbody>\n",
              "    <tr>\n",
              "      <th>0</th>\n",
              "      <td>Fri Aug 17 16:23:04 +0000 2018</td>\n",
              "      <td>1030490201460801541</td>\n",
              "      <td>1030490201460801541</td>\n",
              "      <td>\"O presidente Lula vai dar um passeio nessa el...</td>\n",
              "      <td>False</td>\n",
              "      <td>[0, 212]</td>\n",
              "      <td>{'hashtags': [], 'symbols': [], 'user_mentions...</td>\n",
              "      <td>&lt;a href=\"http://twitter.com\" rel=\"nofollow\"&gt;Tw...</td>\n",
              "      <td>NaN</td>\n",
              "      <td>None</td>\n",
              "      <td>...</td>\n",
              "      <td>347</td>\n",
              "      <td>False</td>\n",
              "      <td>False</td>\n",
              "      <td>pt</td>\n",
              "      <td>NaN</td>\n",
              "      <td>NaN</td>\n",
              "      <td>NaN</td>\n",
              "      <td>NaN</td>\n",
              "      <td>NaN</td>\n",
              "      <td>NaN</td>\n",
              "    </tr>\n",
              "    <tr>\n",
              "      <th>1</th>\n",
              "      <td>Tue Sep 16 01:53:02 +0000 2014</td>\n",
              "      <td>511694215735422976</td>\n",
              "      <td>511694215735422976</td>\n",
              "      <td>@dilmabr afirma que aqueles que querem acabar ...</td>\n",
              "      <td>False</td>\n",
              "      <td>[0, 139]</td>\n",
              "      <td>{'hashtags': [], 'symbols': [], 'user_mentions...</td>\n",
              "      <td>&lt;a href=\"http://twitter.com/download/iphone\" r...</td>\n",
              "      <td>NaN</td>\n",
              "      <td>None</td>\n",
              "      <td>...</td>\n",
              "      <td>9</td>\n",
              "      <td>False</td>\n",
              "      <td>False</td>\n",
              "      <td>pt</td>\n",
              "      <td>NaN</td>\n",
              "      <td>NaN</td>\n",
              "      <td>NaN</td>\n",
              "      <td>NaN</td>\n",
              "      <td>NaN</td>\n",
              "      <td>NaN</td>\n",
              "    </tr>\n",
              "    <tr>\n",
              "      <th>2</th>\n",
              "      <td>Tue Aug 08 23:23:49 +0000 2017</td>\n",
              "      <td>895063025996242944</td>\n",
              "      <td>895063025996242944</td>\n",
              "      <td>O PT deu cidadania para as mulheres fazerem po...</td>\n",
              "      <td>False</td>\n",
              "      <td>[0, 95]</td>\n",
              "      <td>{'hashtags': [], 'symbols': [], 'user_mentions...</td>\n",
              "      <td>&lt;a href=\"https://mobile.twitter.com\" rel=\"nofo...</td>\n",
              "      <td>NaN</td>\n",
              "      <td>None</td>\n",
              "      <td>...</td>\n",
              "      <td>203</td>\n",
              "      <td>False</td>\n",
              "      <td>False</td>\n",
              "      <td>pt</td>\n",
              "      <td>NaN</td>\n",
              "      <td>NaN</td>\n",
              "      <td>NaN</td>\n",
              "      <td>NaN</td>\n",
              "      <td>NaN</td>\n",
              "      <td>NaN</td>\n",
              "    </tr>\n",
              "    <tr>\n",
              "      <th>3</th>\n",
              "      <td>Wed Oct 18 11:24:23 +0000 2017</td>\n",
              "      <td>920611514071076865</td>\n",
              "      <td>920611514071076865</td>\n",
              "      <td>Continuo sendo o lulinha paz e a amor. A gente...</td>\n",
              "      <td>False</td>\n",
              "      <td>[0, 108]</td>\n",
              "      <td>{'hashtags': [{'text': 'LulanoRadio', 'indices...</td>\n",
              "      <td>&lt;a href=\"http://twitter.com\" rel=\"nofollow\"&gt;Tw...</td>\n",
              "      <td>NaN</td>\n",
              "      <td>None</td>\n",
              "      <td>...</td>\n",
              "      <td>153</td>\n",
              "      <td>False</td>\n",
              "      <td>False</td>\n",
              "      <td>pt</td>\n",
              "      <td>NaN</td>\n",
              "      <td>NaN</td>\n",
              "      <td>NaN</td>\n",
              "      <td>NaN</td>\n",
              "      <td>NaN</td>\n",
              "      <td>NaN</td>\n",
              "    </tr>\n",
              "    <tr>\n",
              "      <th>4</th>\n",
              "      <td>Mon Apr 24 22:24:18 +0000 2017</td>\n",
              "      <td>856634932764037120</td>\n",
              "      <td>856634932764037120</td>\n",
              "      <td>Olhando as últimas pesquisas, vemos que a únic...</td>\n",
              "      <td>False</td>\n",
              "      <td>[0, 100]</td>\n",
              "      <td>{'hashtags': [], 'symbols': [], 'user_mentions...</td>\n",
              "      <td>&lt;a href=\"http://twitter.com\" rel=\"nofollow\"&gt;Tw...</td>\n",
              "      <td>NaN</td>\n",
              "      <td>None</td>\n",
              "      <td>...</td>\n",
              "      <td>168</td>\n",
              "      <td>False</td>\n",
              "      <td>False</td>\n",
              "      <td>pt</td>\n",
              "      <td>NaN</td>\n",
              "      <td>NaN</td>\n",
              "      <td>NaN</td>\n",
              "      <td>NaN</td>\n",
              "      <td>NaN</td>\n",
              "      <td>NaN</td>\n",
              "    </tr>\n",
              "  </tbody>\n",
              "</table>\n",
              "<p>5 rows × 30 columns</p>\n",
              "</div>\n",
              "      <button class=\"colab-df-convert\" onclick=\"convertToInteractive('df-ca8599ce-06e6-4d73-8472-c386e67aeb4d')\"\n",
              "              title=\"Convert this dataframe to an interactive table.\"\n",
              "              style=\"display:none;\">\n",
              "        \n",
              "  <svg xmlns=\"http://www.w3.org/2000/svg\" height=\"24px\"viewBox=\"0 0 24 24\"\n",
              "       width=\"24px\">\n",
              "    <path d=\"M0 0h24v24H0V0z\" fill=\"none\"/>\n",
              "    <path d=\"M18.56 5.44l.94 2.06.94-2.06 2.06-.94-2.06-.94-.94-2.06-.94 2.06-2.06.94zm-11 1L8.5 8.5l.94-2.06 2.06-.94-2.06-.94L8.5 2.5l-.94 2.06-2.06.94zm10 10l.94 2.06.94-2.06 2.06-.94-2.06-.94-.94-2.06-.94 2.06-2.06.94z\"/><path d=\"M17.41 7.96l-1.37-1.37c-.4-.4-.92-.59-1.43-.59-.52 0-1.04.2-1.43.59L10.3 9.45l-7.72 7.72c-.78.78-.78 2.05 0 2.83L4 21.41c.39.39.9.59 1.41.59.51 0 1.02-.2 1.41-.59l7.78-7.78 2.81-2.81c.8-.78.8-2.07 0-2.86zM5.41 20L4 18.59l7.72-7.72 1.47 1.35L5.41 20z\"/>\n",
              "  </svg>\n",
              "      </button>\n",
              "      \n",
              "  <style>\n",
              "    .colab-df-container {\n",
              "      display:flex;\n",
              "      flex-wrap:wrap;\n",
              "      gap: 12px;\n",
              "    }\n",
              "\n",
              "    .colab-df-convert {\n",
              "      background-color: #E8F0FE;\n",
              "      border: none;\n",
              "      border-radius: 50%;\n",
              "      cursor: pointer;\n",
              "      display: none;\n",
              "      fill: #1967D2;\n",
              "      height: 32px;\n",
              "      padding: 0 0 0 0;\n",
              "      width: 32px;\n",
              "    }\n",
              "\n",
              "    .colab-df-convert:hover {\n",
              "      background-color: #E2EBFA;\n",
              "      box-shadow: 0px 1px 2px rgba(60, 64, 67, 0.3), 0px 1px 3px 1px rgba(60, 64, 67, 0.15);\n",
              "      fill: #174EA6;\n",
              "    }\n",
              "\n",
              "    [theme=dark] .colab-df-convert {\n",
              "      background-color: #3B4455;\n",
              "      fill: #D2E3FC;\n",
              "    }\n",
              "\n",
              "    [theme=dark] .colab-df-convert:hover {\n",
              "      background-color: #434B5C;\n",
              "      box-shadow: 0px 1px 3px 1px rgba(0, 0, 0, 0.15);\n",
              "      filter: drop-shadow(0px 1px 2px rgba(0, 0, 0, 0.3));\n",
              "      fill: #FFFFFF;\n",
              "    }\n",
              "  </style>\n",
              "\n",
              "      <script>\n",
              "        const buttonEl =\n",
              "          document.querySelector('#df-ca8599ce-06e6-4d73-8472-c386e67aeb4d button.colab-df-convert');\n",
              "        buttonEl.style.display =\n",
              "          google.colab.kernel.accessAllowed ? 'block' : 'none';\n",
              "\n",
              "        async function convertToInteractive(key) {\n",
              "          const element = document.querySelector('#df-ca8599ce-06e6-4d73-8472-c386e67aeb4d');\n",
              "          const dataTable =\n",
              "            await google.colab.kernel.invokeFunction('convertToInteractive',\n",
              "                                                     [key], {});\n",
              "          if (!dataTable) return;\n",
              "\n",
              "          const docLinkHtml = 'Like what you see? Visit the ' +\n",
              "            '<a target=\"_blank\" href=https://colab.research.google.com/notebooks/data_table.ipynb>data table notebook</a>'\n",
              "            + ' to learn more about interactive tables.';\n",
              "          element.innerHTML = '';\n",
              "          dataTable['output_type'] = 'display_data';\n",
              "          await google.colab.output.renderOutput(dataTable, element);\n",
              "          const docLink = document.createElement('div');\n",
              "          docLink.innerHTML = docLinkHtml;\n",
              "          element.appendChild(docLink);\n",
              "        }\n",
              "      </script>\n",
              "    </div>\n",
              "  </div>\n",
              "  "
            ],
            "text/plain": [
              "                       created_at                   id               id_str  \\\n",
              "0  Fri Aug 17 16:23:04 +0000 2018  1030490201460801541  1030490201460801541   \n",
              "1  Tue Sep 16 01:53:02 +0000 2014   511694215735422976   511694215735422976   \n",
              "2  Tue Aug 08 23:23:49 +0000 2017   895063025996242944   895063025996242944   \n",
              "3  Wed Oct 18 11:24:23 +0000 2017   920611514071076865   920611514071076865   \n",
              "4  Mon Apr 24 22:24:18 +0000 2017   856634932764037120   856634932764037120   \n",
              "\n",
              "                                           full_text  truncated  \\\n",
              "0  \"O presidente Lula vai dar um passeio nessa el...      False   \n",
              "1  @dilmabr afirma que aqueles que querem acabar ...      False   \n",
              "2  O PT deu cidadania para as mulheres fazerem po...      False   \n",
              "3  Continuo sendo o lulinha paz e a amor. A gente...      False   \n",
              "4  Olhando as últimas pesquisas, vemos que a únic...      False   \n",
              "\n",
              "  display_text_range                                           entities  \\\n",
              "0           [0, 212]  {'hashtags': [], 'symbols': [], 'user_mentions...   \n",
              "1           [0, 139]  {'hashtags': [], 'symbols': [], 'user_mentions...   \n",
              "2            [0, 95]  {'hashtags': [], 'symbols': [], 'user_mentions...   \n",
              "3           [0, 108]  {'hashtags': [{'text': 'LulanoRadio', 'indices...   \n",
              "4           [0, 100]  {'hashtags': [], 'symbols': [], 'user_mentions...   \n",
              "\n",
              "                                              source  in_reply_to_status_id  \\\n",
              "0  <a href=\"http://twitter.com\" rel=\"nofollow\">Tw...                    NaN   \n",
              "1  <a href=\"http://twitter.com/download/iphone\" r...                    NaN   \n",
              "2  <a href=\"https://mobile.twitter.com\" rel=\"nofo...                    NaN   \n",
              "3  <a href=\"http://twitter.com\" rel=\"nofollow\">Tw...                    NaN   \n",
              "4  <a href=\"http://twitter.com\" rel=\"nofollow\">Tw...                    NaN   \n",
              "\n",
              "  in_reply_to_status_id_str  ...  favorite_count favorited retweeted lang  \\\n",
              "0                      None  ...             347     False     False   pt   \n",
              "1                      None  ...               9     False     False   pt   \n",
              "2                      None  ...             203     False     False   pt   \n",
              "3                      None  ...             153     False     False   pt   \n",
              "4                      None  ...             168     False     False   pt   \n",
              "\n",
              "  extended_entities possibly_sensitive quoted_status_id quoted_status_id_str  \\\n",
              "0               NaN                NaN              NaN                  NaN   \n",
              "1               NaN                NaN              NaN                  NaN   \n",
              "2               NaN                NaN              NaN                  NaN   \n",
              "3               NaN                NaN              NaN                  NaN   \n",
              "4               NaN                NaN              NaN                  NaN   \n",
              "\n",
              "   quoted_status_permalink  quoted_status  \n",
              "0                      NaN            NaN  \n",
              "1                      NaN            NaN  \n",
              "2                      NaN            NaN  \n",
              "3                      NaN            NaN  \n",
              "4                      NaN            NaN  \n",
              "\n",
              "[5 rows x 30 columns]"
            ]
          },
          "metadata": {},
          "execution_count": 18
        }
      ]
    },
    {
      "cell_type": "code",
      "source": [
        "df_lula.info()"
      ],
      "metadata": {
        "colab": {
          "base_uri": "https://localhost:8080/"
        },
        "id": "nQzYF0qr9DBS",
        "outputId": "2412cc6c-bff8-4a8b-8513-64653e99964a"
      },
      "execution_count": 19,
      "outputs": [
        {
          "output_type": "stream",
          "name": "stdout",
          "text": [
            "<class 'pandas.core.frame.DataFrame'>\n",
            "RangeIndex: 14961 entries, 0 to 14960\n",
            "Data columns (total 30 columns):\n",
            " #   Column                     Non-Null Count  Dtype  \n",
            "---  ------                     --------------  -----  \n",
            " 0   created_at                 14961 non-null  object \n",
            " 1   id                         14961 non-null  int64  \n",
            " 2   id_str                     14961 non-null  object \n",
            " 3   full_text                  14961 non-null  object \n",
            " 4   truncated                  14961 non-null  bool   \n",
            " 5   display_text_range         14961 non-null  object \n",
            " 6   entities                   14961 non-null  object \n",
            " 7   source                     14961 non-null  object \n",
            " 8   in_reply_to_status_id      321 non-null    float64\n",
            " 9   in_reply_to_status_id_str  321 non-null    object \n",
            " 10  in_reply_to_user_id        388 non-null    float64\n",
            " 11  in_reply_to_user_id_str    388 non-null    object \n",
            " 12  in_reply_to_screen_name    388 non-null    object \n",
            " 13  user                       14961 non-null  object \n",
            " 14  geo                        0 non-null      object \n",
            " 15  coordinates                0 non-null      object \n",
            " 16  place                      1563 non-null   object \n",
            " 17  contributors               0 non-null      object \n",
            " 18  is_quote_status            14961 non-null  bool   \n",
            " 19  retweet_count              14961 non-null  int64  \n",
            " 20  favorite_count             14961 non-null  int64  \n",
            " 21  favorited                  14961 non-null  bool   \n",
            " 22  retweeted                  14961 non-null  bool   \n",
            " 23  lang                       14961 non-null  object \n",
            " 24  extended_entities          3400 non-null   object \n",
            " 25  possibly_sensitive         6052 non-null   object \n",
            " 26  quoted_status_id           62 non-null     float64\n",
            " 27  quoted_status_id_str       62 non-null     object \n",
            " 28  quoted_status_permalink    62 non-null     object \n",
            " 29  quoted_status              62 non-null     object \n",
            "dtypes: bool(4), float64(3), int64(3), object(20)\n",
            "memory usage: 3.0+ MB\n"
          ]
        }
      ]
    },
    {
      "cell_type": "code",
      "source": [
        "#criação de novas colunas\n",
        "df_lula['Ano'] = df_lula['created_at'].apply(lambda x: x.split(' ')[5])\n",
        "df_lula['Mes'] = df_lula['created_at'].apply(lambda x: x.split(' ')[1])"
      ],
      "metadata": {
        "id": "MWe6MBFq9F-S"
      },
      "execution_count": 20,
      "outputs": []
    },
    {
      "cell_type": "code",
      "source": [
        "###criação dos agrupamentos de mes e ano para criação dos gráficos\n",
        "\n",
        "retweets_mes_lula = df_lula.groupby('Mes',)[['retweet_count']].sum().sort_values(by='retweet_count',ascending= False).reset_index()\n",
        "\n",
        "retweets_ano_lula = df_lula.groupby('Ano',)[['retweet_count']].sum().sort_values(by='retweet_count',ascending= False).reset_index()\n",
        "\n",
        "favoritos_mes_lula = df_lula.groupby('Mes',)[['favorite_count']].sum().sort_values(by='favorite_count',ascending= False).reset_index()\n",
        "\n",
        "favoritos_ano_lula = df_lula.groupby('Ano',)[['favorite_count']].sum().sort_values(by='favorite_count',ascending= False).reset_index()\n"
      ],
      "metadata": {
        "id": "jOlQrhep_7Id"
      },
      "execution_count": 21,
      "outputs": []
    },
    {
      "cell_type": "code",
      "source": [
        "###Criação de Grafico nao sei o motivo de arredondar nas labels\n",
        "x = favoritos_ano_lula['Ano']\n",
        "y = favoritos_ano_lula['favorite_count']\n",
        "plt.plot(x,y)\n",
        "plt.legend(fontsize=15)\n",
        "plt.xlabel('Data',fontsize=20)\n",
        "plt.ylabel('Favoritos',fontsize=20)\n",
        "plt.title('Favoritos Lula',fontsize=30)\n",
        "plt.show()\n"
      ],
      "metadata": {
        "colab": {
          "base_uri": "https://localhost:8080/",
          "height": 334
        },
        "id": "mfHMbJv_AZgj",
        "outputId": "e0d5462d-e95b-455c-be3b-bb7165609115"
      },
      "execution_count": 22,
      "outputs": [
        {
          "output_type": "stream",
          "name": "stderr",
          "text": [
            "No handles with labels found to put in legend.\n"
          ]
        },
        {
          "output_type": "display_data",
          "data": {
            "image/png": "[encoded data removed]",
            "text/plain": [
              "<Figure size 432x288 with 1 Axes>"
            ]
          },
          "metadata": {
            "needs_background": "light"
          }
        }
      ]
    },
    {
      "cell_type": "code",
      "source": [
        "###Criação de Grafico nao sei o motivo de arredondar nas labels\n",
        "x = favoritos_mes_lula['Mes']\n",
        "y = favoritos_mes_lula['favorite_count']\n",
        "plt.plot(x,y)\n",
        "plt.legend(fontsize=15)\n",
        "plt.xlabel('Data',fontsize=20)\n",
        "plt.ylabel('Favoritos',fontsize=20)\n",
        "plt.title('Favoritos Lula',fontsize=30)\n",
        "plt.show()"
      ],
      "metadata": {
        "colab": {
          "base_uri": "https://localhost:8080/",
          "height": 334
        },
        "id": "Dvj6pJ-zA3D3",
        "outputId": "21959986-7b9f-404d-c633-a321c57daf22"
      },
      "execution_count": 23,
      "outputs": [
        {
          "output_type": "stream",
          "name": "stderr",
          "text": [
            "No handles with labels found to put in legend.\n"
          ]
        },
        {
          "output_type": "display_data",
          "data": {
            "image/png": "[encoded data removed]",
            "text/plain": [
              "<Figure size 432x288 with 1 Axes>"
            ]
          },
          "metadata": {
            "needs_background": "light"
          }
        }
      ]
    },
    {
      "cell_type": "code",
      "source": [
        "###Criação de Grafico nao sei o motivo de arredondar nas labels\n",
        "x = retweets_ano_lula['Ano']\n",
        "y = retweets_ano_lula['retweet_count']\n",
        "plt.plot(x,y)\n",
        "plt.legend(fontsize=15)\n",
        "plt.xlabel('Data',fontsize=20)\n",
        "plt.ylabel('Retweets',fontsize=20)\n",
        "plt.title('Retweets Lula',fontsize=30)\n",
        "plt.show()"
      ],
      "metadata": {
        "colab": {
          "base_uri": "https://localhost:8080/",
          "height": 334
        },
        "id": "gaUy5zFvA7sn",
        "outputId": "1c91645e-c314-4e83-bdb0-e7cbfca6e1e6"
      },
      "execution_count": 24,
      "outputs": [
        {
          "output_type": "stream",
          "name": "stderr",
          "text": [
            "No handles with labels found to put in legend.\n"
          ]
        },
        {
          "output_type": "display_data",
          "data": {
            "image/png": "[encoded data removed]",
            "text/plain": [
              "<Figure size 432x288 with 1 Axes>"
            ]
          },
          "metadata": {
            "needs_background": "light"
          }
        }
      ]
    },
    {
      "cell_type": "code",
      "source": [
        "###Criação de Grafico nao sei o motivo de arredondar nas labels\n",
        "x = retweets_mes_lula['Mes']\n",
        "y = retweets_mes_lula['retweet_count']\n",
        "plt.plot(x,y)\n",
        "plt.legend(fontsize=15)\n",
        "plt.xlabel('Data',fontsize=20)\n",
        "plt.ylabel('Retweets',fontsize=20)\n",
        "plt.title('Retweets Lula',fontsize=30)\n",
        "plt.show()"
      ],
      "metadata": {
        "colab": {
          "base_uri": "https://localhost:8080/",
          "height": 334
        },
        "id": "e-Y2g27BBWt9",
        "outputId": "add840f4-dd33-445b-bcf4-24d7c804ef3f"
      },
      "execution_count": 25,
      "outputs": [
        {
          "output_type": "stream",
          "name": "stderr",
          "text": [
            "No handles with labels found to put in legend.\n"
          ]
        },
        {
          "output_type": "display_data",
          "data": {
            "image/png": "[encoded data removed]",
            "text/plain": [
              "<Figure size 432x288 with 1 Axes>"
            ]
          },
          "metadata": {
            "needs_background": "light"
          }
        }
      ]
    },
    {
      "cell_type": "code",
      "source": [
        "plt.figure(figsize = (12,5))\n",
        "sns.barplot(x= 'Ano', y = 'favorite_count', data = favoritos_ano_lula.sort_values(by = 'favorite_count', ascending = False))"
      ],
      "metadata": {
        "colab": {
          "base_uri": "https://localhost:8080/",
          "height": 362
        },
        "id": "J1mM66dKBcay",
        "outputId": "582690f4-90a4-4f70-b7e7-13b56c817901"
      },
      "execution_count": 26,
      "outputs": [
        {
          "output_type": "execute_result",
          "data": {
            "text/plain": [
              "<matplotlib.axes._subplots.AxesSubplot at 0x7f2ffc3c9950>"
            ]
          },
          "metadata": {},
          "execution_count": 26
        },
        {
          "output_type": "display_data",
          "data": {
            "image/png": "[encoded data removed]",
            "text/plain": [
              "<Figure size 864x360 with 1 Axes>"
            ]
          },
          "metadata": {
            "needs_background": "light"
          }
        }
      ]
    },
    {
      "cell_type": "code",
      "source": [
        "plt.figure(figsize = (12,5))\n",
        "sns.barplot(x= 'Mes', y = 'favorite_count', data = favoritos_mes_lula.sort_values(by = 'favorite_count', ascending = False))"
      ],
      "metadata": {
        "colab": {
          "base_uri": "https://localhost:8080/",
          "height": 362
        },
        "id": "wkYF9OQSBo9I",
        "outputId": "a783c289-aa88-4bee-b5ff-060fd3d48936"
      },
      "execution_count": 27,
      "outputs": [
        {
          "output_type": "execute_result",
          "data": {
            "text/plain": [
              "<matplotlib.axes._subplots.AxesSubplot at 0x7f2ffc493b10>"
            ]
          },
          "metadata": {},
          "execution_count": 27
        },
        {
          "output_type": "display_data",
          "data": {
            "image/png": "[encoded data removed]",
            "text/plain": [
              "<Figure size 864x360 with 1 Axes>"
            ]
          },
          "metadata": {
            "needs_background": "light"
          }
        }
      ]
    },
    {
      "cell_type": "code",
      "source": [
        "plt.figure(figsize = (12,5))\n",
        "sns.barplot(x= 'Ano', y = 'retweet_count', data = retweets_ano_lula.sort_values(by = 'retweet_count', ascending = False))"
      ],
      "metadata": {
        "colab": {
          "base_uri": "https://localhost:8080/",
          "height": 362
        },
        "id": "l_KKyUkLBvD6",
        "outputId": "1f36cf39-23c0-4e6e-963f-e2aac9457ff5"
      },
      "execution_count": 28,
      "outputs": [
        {
          "output_type": "execute_result",
          "data": {
            "text/plain": [
              "<matplotlib.axes._subplots.AxesSubplot at 0x7f2ffc35c6d0>"
            ]
          },
          "metadata": {},
          "execution_count": 28
        },
        {
          "output_type": "display_data",
          "data": {
            "image/png": "[encoded data removed]",
            "text/plain": [
              "<Figure size 864x360 with 1 Axes>"
            ]
          },
          "metadata": {
            "needs_background": "light"
          }
        }
      ]
    },
    {
      "cell_type": "code",
      "source": [
        "plt.figure(figsize = (12,5))\n",
        "sns.barplot(x= 'Mes', y = 'retweet_count', data = retweets_mes_lula.sort_values(by = 'retweet_count', ascending = False))"
      ],
      "metadata": {
        "colab": {
          "base_uri": "https://localhost:8080/",
          "height": 351
        },
        "id": "ZXdRz-s8CT_g",
        "outputId": "bab1214c-bd3a-407f-e2d2-3733ab39d171"
      },
      "execution_count": 29,
      "outputs": [
        {
          "output_type": "execute_result",
          "data": {
            "text/plain": [
              "<matplotlib.axes._subplots.AxesSubplot at 0x7f2ffc25a210>"
            ]
          },
          "metadata": {},
          "execution_count": 29
        },
        {
          "output_type": "display_data",
          "data": {
            "image/png": "[encoded data removed]",
            "text/plain": [
              "<Figure size 864x360 with 1 Axes>"
            ]
          },
          "metadata": {
            "needs_background": "light"
          }
        }
      ]
    },
    {
      "cell_type": "code",
      "source": [
        ""
      ],
      "metadata": {
        "id": "5FP5dEeNCa3P"
      },
      "execution_count": 29,
      "outputs": []
    }
  ]
}